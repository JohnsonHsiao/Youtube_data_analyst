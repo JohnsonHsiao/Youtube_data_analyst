{
 "cells": [
  {
   "cell_type": "code",
   "execution_count": 4,
   "id": "eb873cbb",
   "metadata": {},
   "outputs": [
    {
     "name": "stdout",
     "output_type": "stream",
     "text": [
      "      Unnamed: 0            0            1\n",
      "0              0  PEFUuP3eWCc  nhOnLlshf60\n",
      "1              1  d7y9z7pjCRM  QEo7b36mOcM\n",
      "2              2  yQThMUn_UmM  BnXRS18K7gc\n",
      "3              3  MEiq0oCUb_8  fu_M9EmP_gk\n",
      "4              4  JuWF9G6SSi0  J_0teOgTAhQ\n",
      "...          ...          ...          ...\n",
      "1456        1456  hCEBLSSU-2Y          NaN\n",
      "1457        1457  9gk_rl3y_SU          NaN\n",
      "1458        1458  f7mqssf66l4          NaN\n",
      "1459        1459  PD5igzFB8iY          NaN\n",
      "1460        1460  fjhmnWFsr3s          NaN\n",
      "\n",
      "[1461 rows x 3 columns]\n"
     ]
    }
   ],
   "source": [
    "import pandas as pd \n",
    "import numpy as np\n",
    "\n",
    "all_videoId_df = pd.read_csv('/Users/chouwilliam/api-data-download/data_center/public_stats/video_details/all_videoId_df.csv')\n",
    "# all_videoId = pd.read_csv('/Users/chouwilliam/api-data-download/data_center/public_stats/video_details/all_videoId_df.csv')\n",
    "\n",
    "# func import \n",
    "\n",
    "def get_video_details_list(youtube, video_ids):\n",
    "\n",
    "    all_video_stats_list = []\n",
    "    for i in range(0, len(video_ids), 50):\n",
    "        requests = youtube.videos().list(\n",
    "            part = 'snippet, statistics',\n",
    "            id = ','.join(video_ids[i:i+50])\n",
    "        )\n",
    "        response = requests.execute()\n",
    "        for video in response['items']:\n",
    "            video_stats = dict(\n",
    "\n",
    "                title = video['snippet']['title'],\n",
    "                published_date = video['snippet']['publishedAt'],\n",
    "                channel_id = video['snippet']['channelId'],\n",
    "                video_stats = video['statistics'], # first put it into 1 dict\n",
    "                description = video['snippet']['description'],\n",
    "\n",
    "                # video_stats -> bug to-fix... shd work like below but dun know why...\n",
    "                # video_view_count = video['statistics']['viewCount'],\n",
    "                # video_like_count = video['statistics']['likeCount'],\n",
    "                # video_favorite_count = video['statistics']['favoriteCount'],\n",
    "                # video_comment_count = video['statistics']['commentCount'],\n",
    "            )\n",
    "            all_video_stats_list.append(video_stats)\n",
    "\n",
    "    return all_video_stats_list\n",
    "\n",
    "\n",
    "print(all_videoId_df)"
   ]
  },
  {
   "cell_type": "code",
   "execution_count": null,
   "id": "e31fd6e0",
   "metadata": {},
   "outputs": [],
   "source": []
  }
 ],
 "metadata": {
  "kernelspec": {
   "display_name": "Python 3 (ipykernel)",
   "language": "python",
   "name": "python3"
  },
  "language_info": {
   "codemirror_mode": {
    "name": "ipython",
    "version": 3
   },
   "file_extension": ".py",
   "mimetype": "text/x-python",
   "name": "python",
   "nbconvert_exporter": "python",
   "pygments_lexer": "ipython3",
   "version": "3.9.12"
  }
 },
 "nbformat": 4,
 "nbformat_minor": 5
}
