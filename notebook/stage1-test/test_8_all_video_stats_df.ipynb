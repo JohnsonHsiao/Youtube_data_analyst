{
 "cells": [
  {
   "cell_type": "code",
   "execution_count": 1,
   "id": "63bb2553",
   "metadata": {},
   "outputs": [],
   "source": [
    "import pandas as pd \n",
    "import numpy as np\n",
    "\n",
    "df = pd.read_csv('/Users/chouwilliam/OrbitNext/api-data-download/data_center/public_stats/video_details/example.csv')"
   ]
  },
  {
   "cell_type": "code",
   "execution_count": 11,
   "id": "6a890973",
   "metadata": {},
   "outputs": [
    {
     "data": {
      "text/plain": [
       "Index(['Unnamed: 0', 'title', 'published_date', 'channel_id', 'video_stats',\n",
       "       'description', 'value'],\n",
       "      dtype='object')"
      ]
     },
     "execution_count": 11,
     "metadata": {},
     "output_type": "execute_result"
    }
   ],
   "source": [
    "df.columns"
   ]
  },
  {
   "cell_type": "code",
   "execution_count": 13,
   "id": "2b213305",
   "metadata": {},
   "outputs": [
    {
     "data": {
      "text/html": [
       "<div>\n",
       "<style scoped>\n",
       "    .dataframe tbody tr th:only-of-type {\n",
       "        vertical-align: middle;\n",
       "    }\n",
       "\n",
       "    .dataframe tbody tr th {\n",
       "        vertical-align: top;\n",
       "    }\n",
       "\n",
       "    .dataframe thead th {\n",
       "        text-align: right;\n",
       "    }\n",
       "</style>\n",
       "<table border=\"1\" class=\"dataframe\">\n",
       "  <thead>\n",
       "    <tr style=\"text-align: right;\">\n",
       "      <th></th>\n",
       "      <th>channel_id</th>\n",
       "      <th>title</th>\n",
       "      <th>published_date</th>\n",
       "      <th>video_stats</th>\n",
       "    </tr>\n",
       "  </thead>\n",
       "  <tbody>\n",
       "    <tr>\n",
       "      <th>0</th>\n",
       "      <td>UCVYamHliCI9rw1tHR1xbkfw</td>\n",
       "      <td>A New Kind of Gaming Laptop from Corsair!</td>\n",
       "      <td>2022-08-18</td>\n",
       "      <td>{'viewCount': '619459', 'likeCount': '25370', ...</td>\n",
       "    </tr>\n",
       "    <tr>\n",
       "      <th>1</th>\n",
       "      <td>UCVYamHliCI9rw1tHR1xbkfw</td>\n",
       "      <td>The NEW Samsung Galaxy Fold 4 and Flip 4!</td>\n",
       "      <td>2022-08-10</td>\n",
       "      <td>{'viewCount': '561341', 'likeCount': '20115', ...</td>\n",
       "    </tr>\n",
       "    <tr>\n",
       "      <th>2</th>\n",
       "      <td>UCVYamHliCI9rw1tHR1xbkfw</td>\n",
       "      <td>The Mini “Steam Deck”</td>\n",
       "      <td>2022-08-06</td>\n",
       "      <td>{'viewCount': '649161', 'likeCount': '25962', ...</td>\n",
       "    </tr>\n",
       "    <tr>\n",
       "      <th>3</th>\n",
       "      <td>UCVYamHliCI9rw1tHR1xbkfw</td>\n",
       "      <td>OnePlus 10T - Is This What We Wanted?</td>\n",
       "      <td>2022-08-03</td>\n",
       "      <td>{'viewCount': '446953', 'likeCount': '17872', ...</td>\n",
       "    </tr>\n",
       "    <tr>\n",
       "      <th>4</th>\n",
       "      <td>UCVYamHliCI9rw1tHR1xbkfw</td>\n",
       "      <td>ASUS Zenfone 9 Review - Built For Battery Life!</td>\n",
       "      <td>2022-07-28</td>\n",
       "      <td>{'viewCount': '926642', 'likeCount': '36547', ...</td>\n",
       "    </tr>\n",
       "    <tr>\n",
       "      <th>...</th>\n",
       "      <td>...</td>\n",
       "      <td>...</td>\n",
       "      <td>...</td>\n",
       "      <td>...</td>\n",
       "    </tr>\n",
       "    <tr>\n",
       "      <th>677</th>\n",
       "      <td>NaN</td>\n",
       "      <td>NaN</td>\n",
       "      <td>NaN</td>\n",
       "      <td>NaN</td>\n",
       "    </tr>\n",
       "    <tr>\n",
       "      <th>678</th>\n",
       "      <td>NaN</td>\n",
       "      <td>NaN</td>\n",
       "      <td>NaN</td>\n",
       "      <td>NaN</td>\n",
       "    </tr>\n",
       "    <tr>\n",
       "      <th>679</th>\n",
       "      <td>NaN</td>\n",
       "      <td>NaN</td>\n",
       "      <td>NaN</td>\n",
       "      <td>NaN</td>\n",
       "    </tr>\n",
       "    <tr>\n",
       "      <th>680</th>\n",
       "      <td>NaN</td>\n",
       "      <td>NaN</td>\n",
       "      <td>NaN</td>\n",
       "      <td>NaN</td>\n",
       "    </tr>\n",
       "    <tr>\n",
       "      <th>681</th>\n",
       "      <td>NaN</td>\n",
       "      <td>NaN</td>\n",
       "      <td>NaN</td>\n",
       "      <td>NaN</td>\n",
       "    </tr>\n",
       "  </tbody>\n",
       "</table>\n",
       "<p>682 rows × 4 columns</p>\n",
       "</div>"
      ],
      "text/plain": [
       "                   channel_id  \\\n",
       "0    UCVYamHliCI9rw1tHR1xbkfw   \n",
       "1    UCVYamHliCI9rw1tHR1xbkfw   \n",
       "2    UCVYamHliCI9rw1tHR1xbkfw   \n",
       "3    UCVYamHliCI9rw1tHR1xbkfw   \n",
       "4    UCVYamHliCI9rw1tHR1xbkfw   \n",
       "..                        ...   \n",
       "677                       NaN   \n",
       "678                       NaN   \n",
       "679                       NaN   \n",
       "680                       NaN   \n",
       "681                       NaN   \n",
       "\n",
       "                                               title published_date  \\\n",
       "0          A New Kind of Gaming Laptop from Corsair!     2022-08-18   \n",
       "1          The NEW Samsung Galaxy Fold 4 and Flip 4!     2022-08-10   \n",
       "2                              The Mini “Steam Deck”     2022-08-06   \n",
       "3              OnePlus 10T - Is This What We Wanted?     2022-08-03   \n",
       "4    ASUS Zenfone 9 Review - Built For Battery Life!     2022-07-28   \n",
       "..                                               ...            ...   \n",
       "677                                              NaN            NaN   \n",
       "678                                              NaN            NaN   \n",
       "679                                              NaN            NaN   \n",
       "680                                              NaN            NaN   \n",
       "681                                              NaN            NaN   \n",
       "\n",
       "                                           video_stats  \n",
       "0    {'viewCount': '619459', 'likeCount': '25370', ...  \n",
       "1    {'viewCount': '561341', 'likeCount': '20115', ...  \n",
       "2    {'viewCount': '649161', 'likeCount': '25962', ...  \n",
       "3    {'viewCount': '446953', 'likeCount': '17872', ...  \n",
       "4    {'viewCount': '926642', 'likeCount': '36547', ...  \n",
       "..                                                 ...  \n",
       "677                                                NaN  \n",
       "678                                                NaN  \n",
       "679                                                NaN  \n",
       "680                                                NaN  \n",
       "681                                                NaN  \n",
       "\n",
       "[682 rows x 4 columns]"
      ]
     },
     "execution_count": 13,
     "metadata": {},
     "output_type": "execute_result"
    }
   ],
   "source": [
    "df[['channel_id','title', 'published_date', 'video_stats']]"
   ]
  },
  {
   "cell_type": "code",
   "execution_count": 4,
   "id": "f6e565a6",
   "metadata": {},
   "outputs": [],
   "source": [
    "stats_df = df['video_stats']"
   ]
  },
  {
   "cell_type": "code",
   "execution_count": 6,
   "id": "4403bcb7",
   "metadata": {},
   "outputs": [
    {
     "data": {
      "text/plain": [
       "pandas.core.series.Series"
      ]
     },
     "execution_count": 6,
     "metadata": {},
     "output_type": "execute_result"
    }
   ],
   "source": [
    "type(stats_df)"
   ]
  },
  {
   "cell_type": "code",
   "execution_count": 7,
   "id": "1ee965d2",
   "metadata": {},
   "outputs": [
    {
     "data": {
      "text/plain": [
       "0      {'viewCount': '619459', 'likeCount': '25370', ...\n",
       "1      {'viewCount': '561341', 'likeCount': '20115', ...\n",
       "2      {'viewCount': '649161', 'likeCount': '25962', ...\n",
       "3      {'viewCount': '446953', 'likeCount': '17872', ...\n",
       "4      {'viewCount': '926642', 'likeCount': '36547', ...\n",
       "                             ...                        \n",
       "677                                                  NaN\n",
       "678                                                  NaN\n",
       "679                                                  NaN\n",
       "680                                                  NaN\n",
       "681                                                  NaN\n",
       "Name: video_stats, Length: 682, dtype: object"
      ]
     },
     "execution_count": 7,
     "metadata": {},
     "output_type": "execute_result"
    }
   ],
   "source": [
    "stats_df"
   ]
  },
  {
   "cell_type": "code",
   "execution_count": null,
   "id": "cbafc323",
   "metadata": {},
   "outputs": [],
   "source": []
  }
 ],
 "metadata": {
  "kernelspec": {
   "display_name": "Python 3 (ipykernel)",
   "language": "python",
   "name": "python3"
  },
  "language_info": {
   "codemirror_mode": {
    "name": "ipython",
    "version": 3
   },
   "file_extension": ".py",
   "mimetype": "text/x-python",
   "name": "python",
   "nbconvert_exporter": "python",
   "pygments_lexer": "ipython3",
   "version": "3.8.13"
  }
 },
 "nbformat": 4,
 "nbformat_minor": 5
}
