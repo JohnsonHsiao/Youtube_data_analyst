{
 "cells": [
  {
   "cell_type": "code",
   "execution_count": 1,
   "id": "c882d730",
   "metadata": {},
   "outputs": [],
   "source": [
    "import os\n",
    "from datetime import datetime\n",
    "import argparse\n",
    "from tabulate import tabulate\n",
    "import google.oauth2.credentials\n",
    "import google_auth_oauthlib.flow\n",
    "from googleapiclient.discovery import build\n",
    "from googleapiclient.errors import HttpError\n",
    "from googleapiclient.http import MediaIoBaseDownload\n",
    "from google_auth_oauthlib.flow import InstalledAppFlow\n",
    "from io import FileIO\n",
    "import urllib.request\n",
    "import urllib.error\n",
    "\n",
    "target_channel = [\n",
    "\n",
    "    (\"UCFN4dYd4H_CsW64qZqgQY-A\", \"楊允兒UNA\"), \n",
    "    (\"UC_wI74GEkBf2rh1CqETj_9w\", \"阿酸_AcidR\"), \n",
    "    (\"UCwGfaaRbF-3ocI6leB7dYXw\", \"OX_死神烤肉\"), \n",
    "\n",
    "]"
   ]
  },
  {
   "cell_type": "code",
   "execution_count": 2,
   "id": "846b1730",
   "metadata": {},
   "outputs": [],
   "source": [
    "SCOPES = ['https://www.googleapis.com/auth/youtubepartner']\n",
    "CLIENT_SECRETS_FILE = '/Users/chouwilliam/OrbitNext/api-data-download/key/client_secret_v2.json'\n",
    "# API_SERVICE_NAME = 'youtubeAnalytics'\n",
    "API_SERVICE_NAME = 'youtubereporting'\n",
    "API_VERSION = 'v1'"
   ]
  },
  {
   "cell_type": "code",
   "execution_count": 6,
   "id": "b850466d",
   "metadata": {},
   "outputs": [],
   "source": [
    "# func import\n",
    "\n",
    "def get_authenticated_service():\n",
    "\n",
    "  flow = InstalledAppFlow.from_client_secrets_file(CLIENT_SECRETS_FILE, SCOPES)\n",
    "  credentials = flow.run_console()\n",
    "\n",
    "  return build(API_SERVICE_NAME, API_VERSION, credentials = credentials)\n",
    "\n",
    "# Remove keyword arguments that are not set\n",
    "def remove_empty_kwargs(**kwargs):\n",
    "\n",
    "  good_kwargs = {}\n",
    "  if kwargs is not None:\n",
    "    for key, value in kwargs.iteritems():\n",
    "      if value:\n",
    "        good_kwargs[key] = value\n",
    "  return good_kwargs\n",
    "\n",
    "# Call the YouTube Reporting API's jobs.list method to retrieve reporting jobs.\n",
    "def list_reporting_jobs(youtube_reporting, **kwargs):\n",
    "  # Only include the onBehalfOfContentOwner keyword argument if the user\n",
    "  # set a value for the --content_owner argument.\n",
    "  kwargs = remove_empty_kwargs(**kwargs)\n",
    "\n",
    "  # Retrieve the reporting jobs for the user (or content owner).\n",
    "  results = youtube_reporting.jobs().list(**kwargs).execute()\n",
    "\n",
    "  if 'jobs' in results and results['jobs']:\n",
    "    jobs = results['jobs']\n",
    "    for job in jobs:\n",
    "      print ('Reporting job id: %s\\n name: %s\\n for reporting type: %s\\n'\n",
    "        % (job['id'], job['name'], job['reportTypeId']))\n",
    "  else:\n",
    "    print('No jobs found')\n",
    "    return False\n",
    "\n",
    "  return True\n",
    "\n",
    "# Call the YouTube Reporting API's reports.list method to retrieve reports created by a job\n",
    "# Only include the onBehalfOfContentOwner keyword argument if the user\n",
    "# set a value for the --content_owner argument\n",
    "\n",
    "def report_retrieve(youtube_reporting, **kwargs):\n",
    "\n",
    "  kwargs = remove_empty_kwargs(**kwargs)\n",
    "\n",
    "  # Retrieve available reports for the selected job\n",
    "  results = youtube_reporting.jobs().reports().list(**kwargs).execute()\n",
    "\n",
    "  if 'reports' in results and results['reports']:\n",
    "    reports = results['reports']\n",
    "    print(reports)\n",
    "    for report in reports:\n",
    "      print ('Report dates: %s to %s\\n       download URL: %s\\n'\n",
    "        % (report['startTime'], report['endTime'], report['downloadUrl']))\n",
    "\n",
    "# Call the YouTube Reporting API's media.download method to download the report\n",
    "def download_report(youtube_reporting, report_url, local_file):\n",
    "  request = youtube_reporting.media().download(\n",
    "    resourceName=' '\n",
    "  )\n",
    "  request.uri = report_url\n",
    "  fh = FileIO(local_file, mode='wb')\n",
    "  # Stream/download the report in a single request\n",
    "  downloader = MediaIoBaseDownload(fh, request, chunksize=-1)\n",
    "\n",
    "  done = False\n",
    "  while done is False:\n",
    "    status, done = downloader.next_chunk()\n",
    "    if status:\n",
    "      print ('Download %d%%.' % int(status.progress() * 100))\n",
    "  print ('Download Complete!')\n",
    "\n",
    "# Prompt the user to select a job and return the specified ID\n",
    "def get_job_id_from_user():\n",
    "\n",
    "  job_id = input('Please enter the job id for the report retrieval: ')\n",
    "  print ('You chose \"%s\" as the job Id for the report retrieval.' % job_id)\n",
    "  return job_id\n",
    "\n",
    "# Prompt the user to select a report URL and return the specified URL\n",
    "def get_report_url_from_user():\n",
    "\n",
    "  report_url = input('Please enter the report URL to download: ')\n",
    "  print ('You chose \"%s\" to download.' % report_url)\n",
    "  return report_url"
   ]
  },
  {
   "cell_type": "code",
   "execution_count": 7,
   "id": "5c6fbf6f",
   "metadata": {},
   "outputs": [
    {
     "name": "stdout",
     "output_type": "stream",
     "text": [
      "Please visit this URL to authorize this application: https://accounts.google.com/o/oauth2/auth?response_type=code&client_id=850260467799-j521tmvg3b52fr37ej917qge6lvf4fd3.apps.googleusercontent.com&redirect_uri=urn%3Aietf%3Awg%3Aoauth%3A2.0%3Aoob&scope=https%3A%2F%2Fwww.googleapis.com%2Fauth%2Fyoutubepartner&state=4XrsY8SWad1u4MVsTPjPagGD7q1Pt9&prompt=consent&access_type=offline\n",
      "Enter the authorization code: 4/1AdQt8qj2d2wdvSyUNZvMZvoTsAEU47EJwAgEbqpjHQhnnZR4iY1mfaEvviM\n"
     ]
    }
   ],
   "source": [
    "youtube_reporting = get_authenticated_service()"
   ]
  },
  {
   "cell_type": "code",
   "execution_count": 8,
   "id": "47ee37ae",
   "metadata": {},
   "outputs": [
    {
     "ename": "AttributeError",
     "evalue": "'dict' object has no attribute 'iteritems'",
     "output_type": "error",
     "traceback": [
      "\u001b[0;31m---------------------------------------------------------------------------\u001b[0m",
      "\u001b[0;31mAttributeError\u001b[0m                            Traceback (most recent call last)",
      "Input \u001b[0;32mIn [8]\u001b[0m, in \u001b[0;36m<cell line: 1>\u001b[0;34m()\u001b[0m\n\u001b[0;32m----> 1\u001b[0m report \u001b[38;5;241m=\u001b[39m \u001b[43mreport_retrieve\u001b[49m\u001b[43m(\u001b[49m\u001b[43myoutube_reporting\u001b[49m\u001b[43m)\u001b[49m\n",
      "Input \u001b[0;32mIn [6]\u001b[0m, in \u001b[0;36mreport_retrieve\u001b[0;34m(youtube_reporting, **kwargs)\u001b[0m\n\u001b[1;32m     44\u001b[0m \u001b[38;5;28;01mdef\u001b[39;00m \u001b[38;5;21mreport_retrieve\u001b[39m(youtube_reporting, \u001b[38;5;241m*\u001b[39m\u001b[38;5;241m*\u001b[39mkwargs):\n\u001b[0;32m---> 46\u001b[0m   kwargs \u001b[38;5;241m=\u001b[39m \u001b[43mremove_empty_kwargs\u001b[49m\u001b[43m(\u001b[49m\u001b[38;5;241;43m*\u001b[39;49m\u001b[38;5;241;43m*\u001b[39;49m\u001b[43mkwargs\u001b[49m\u001b[43m)\u001b[49m\n\u001b[1;32m     48\u001b[0m   \u001b[38;5;66;03m# Retrieve available reports for the selected job\u001b[39;00m\n\u001b[1;32m     49\u001b[0m   results \u001b[38;5;241m=\u001b[39m youtube_reporting\u001b[38;5;241m.\u001b[39mjobs()\u001b[38;5;241m.\u001b[39mreports()\u001b[38;5;241m.\u001b[39mlist(\u001b[38;5;241m*\u001b[39m\u001b[38;5;241m*\u001b[39mkwargs)\u001b[38;5;241m.\u001b[39mexecute()\n",
      "Input \u001b[0;32mIn [6]\u001b[0m, in \u001b[0;36mremove_empty_kwargs\u001b[0;34m(**kwargs)\u001b[0m\n\u001b[1;32m     13\u001b[0m good_kwargs \u001b[38;5;241m=\u001b[39m {}\n\u001b[1;32m     14\u001b[0m \u001b[38;5;28;01mif\u001b[39;00m kwargs \u001b[38;5;129;01mis\u001b[39;00m \u001b[38;5;129;01mnot\u001b[39;00m \u001b[38;5;28;01mNone\u001b[39;00m:\n\u001b[0;32m---> 15\u001b[0m   \u001b[38;5;28;01mfor\u001b[39;00m key, value \u001b[38;5;129;01min\u001b[39;00m \u001b[43mkwargs\u001b[49m\u001b[38;5;241;43m.\u001b[39;49m\u001b[43miteritems\u001b[49m():\n\u001b[1;32m     16\u001b[0m     \u001b[38;5;28;01mif\u001b[39;00m value:\n\u001b[1;32m     17\u001b[0m       good_kwargs[key] \u001b[38;5;241m=\u001b[39m value\n",
      "\u001b[0;31mAttributeError\u001b[0m: 'dict' object has no attribute 'iteritems'"
     ]
    }
   ],
   "source": [
    "report = report_retrieve(youtube_reporting)"
   ]
  },
  {
   "cell_type": "code",
   "execution_count": null,
   "id": "1c50c892",
   "metadata": {},
   "outputs": [],
   "source": []
  }
 ],
 "metadata": {
  "kernelspec": {
   "display_name": "Python 3 (ipykernel)",
   "language": "python",
   "name": "python3"
  },
  "language_info": {
   "codemirror_mode": {
    "name": "ipython",
    "version": 3
   },
   "file_extension": ".py",
   "mimetype": "text/x-python",
   "name": "python",
   "nbconvert_exporter": "python",
   "pygments_lexer": "ipython3",
   "version": "3.8.13"
  }
 },
 "nbformat": 4,
 "nbformat_minor": 5
}
